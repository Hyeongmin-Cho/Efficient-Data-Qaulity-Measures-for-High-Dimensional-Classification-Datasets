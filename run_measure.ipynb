{
 "cells": [
  {
   "cell_type": "code",
   "execution_count": 1,
   "metadata": {},
   "outputs": [],
   "source": [
    "from utils import load_list, save_list, to_arff\n",
    "from c_measure_noseed import get_lda_object, load_data"
   ]
  },
  {
   "cell_type": "code",
   "execution_count": null,
   "metadata": {
    "scrolled": true
   },
   "outputs": [
    {
     "name": "stdout",
     "output_type": "stream",
     "text": [
      "./dataset/cifar10\n"
     ]
    }
   ],
   "source": [
    "dataset_name = 'cifar10'\n",
    "is_training = True\n",
    "root = './dataset'\n",
    "sample_ratio = 0.25\n",
    "sampling_count = 100\n",
    "normal_vector = 10\n",
    "\n",
    "indicator = get_lda_object(root, dataset_name, is_training, sample_ratio, sampling_count, normal_vector)\n",
    "lda = indicator.coherence(normal_vector)\n",
    "\n",
    "print(lda)"
   ]
  },
  {
   "cell_type": "code",
   "execution_count": null,
   "metadata": {},
   "outputs": [],
   "source": []
  }
 ],
 "metadata": {
  "kernelspec": {
   "display_name": "Python 3",
   "language": "python",
   "name": "python3"
  },
  "language_info": {
   "codemirror_mode": {
    "name": "ipython",
    "version": 3
   },
   "file_extension": ".py",
   "mimetype": "text/x-python",
   "name": "python",
   "nbconvert_exporter": "python",
   "pygments_lexer": "ipython3",
   "version": "3.7.4"
  }
 },
 "nbformat": 4,
 "nbformat_minor": 4
}
