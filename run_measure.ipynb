{
 "cells": [
  {
   "cell_type": "code",
   "execution_count": 1,
   "metadata": {},
   "outputs": [],
   "source": [
    "from utils import load_list, save_list, to_arff\n",
    "from c_measure import get_lda_object, load_data"
   ]
  },
  {
   "cell_type": "code",
   "execution_count": 3,
   "metadata": {
    "scrolled": false
   },
   "outputs": [
    {
     "name": "stdout",
     "output_type": "stream",
     "text": [
      "../../dataset/cifar10\n",
      "Before sampling : (50000, 3072) (50000,)\n",
      "After sampling : (10000, 3072) (10000,)\n",
      "Loading dataset cifar10 ...\n",
      "Data min : 0.0\n",
      "Data max : 1.0\n",
      "Data mean : 0.47467072329452736\n",
      "Data std : 0.2525121587390632\n",
      "\n",
      "Sampling ratio : 0.25\n",
      "Sampling count : 100\n",
      "Num normal vector : 10\n",
      "Standard batch size : 2500\n",
      "Batch sampling num : 2500\n"
     ]
    },
    {
     "data": {
      "application/vnd.jupyter.widget-view+json": {
       "model_id": "21830287f5b0467b946934b2d6e92e2c",
       "version_major": 2,
       "version_minor": 0
      },
      "text/plain": [
       "HBox(children=(IntProgress(value=1, bar_style='info', max=1), HTML(value='')))"
      ]
     },
     "metadata": {},
     "output_type": "display_data"
    },
    {
     "name": "stdout",
     "output_type": "stream",
     "text": [
      "Sampler index size : 2500\n",
      "\n",
      "\n",
      "Sample ratio: 0.25, Sampling count: 100\n",
      "Data coherence: 0.017341857923659013\n",
      "Computing time: 0 hour 0 min 55 sec (55.179)\n",
      "\n",
      "0.017341857923659013\n"
     ]
    }
   ],
   "source": [
    "dataset_name = 'cifar10' # dataset name\n",
    "is_training = True\n",
    "root = '../../dataset' # dataset root folder\n",
    "sample_ratio = 0.25\n",
    "sampling_count = 100\n",
    "normal_vector = 10\n",
    "\n",
    "indicator = get_lda_object(root, dataset_name, is_training, sample_ratio, sampling_count, normal_vector)\n",
    "lda = indicator.coherence(normal_vector)\n",
    "\n",
    "print(lda)"
   ]
  },
  {
   "cell_type": "code",
   "execution_count": null,
   "metadata": {},
   "outputs": [],
   "source": []
  }
 ],
 "metadata": {
  "kernelspec": {
   "display_name": "Python 3",
   "language": "python",
   "name": "python3"
  },
  "language_info": {
   "codemirror_mode": {
    "name": "ipython",
    "version": 3
   },
   "file_extension": ".py",
   "mimetype": "text/x-python",
   "name": "python",
   "nbconvert_exporter": "python",
   "pygments_lexer": "ipython3",
   "version": "3.7.4"
  }
 },
 "nbformat": 4,
 "nbformat_minor": 4
}
